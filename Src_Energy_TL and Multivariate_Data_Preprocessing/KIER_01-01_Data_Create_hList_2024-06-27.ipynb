{
 "cells": [
  {
   "cell_type": "markdown",
   "id": "715e1ae3",
   "metadata": {},
   "source": [
    "### Code Hist."
   ]
  },
  {
   "cell_type": "markdown",
   "id": "6beeaff0",
   "metadata": {},
   "source": [
    " - CODE  \n",
    "    &ensp; : KIER Data_동/층/호 List 생성  \n",
    "    \n",
    "- DESC  \n",
    "    &ensp; : int_Domain 코드의 변경에 따라,   \n",
    "    &emsp; KIER 에너지 사용량 데이터로부터 동/층/세대 리스트를 생성  \n",
    "\n",
    " - Hist  \n",
    "    &ensp; 2024-01-25 Created  \n",
    "    &ensp; 2024-06-11 코드개선 (코드 간략화)  \n",
    "    &ensp; 2024-06-17 코드개선  \n",
    "    &emsp;&emsp;&emsp;&emsp;&emsp;&emsp; - \"동-층-호\" HOUSE_ID 생성  \n",
    "    &emsp;&emsp;&emsp;&emsp;&emsp;&emsp; - GAS Domain 추가\n",
    "\n",
    " "
   ]
  },
  {
   "cell_type": "markdown",
   "id": "5b9f1da2",
   "metadata": {},
   "source": [
    "## 01. Code"
   ]
  },
  {
   "cell_type": "markdown",
   "id": "67c11199",
   "metadata": {},
   "source": [
    "### 01-01. Init"
   ]
  },
  {
   "cell_type": "markdown",
   "id": "1677f6e7",
   "metadata": {},
   "source": [
    "#### 01-01-01. Init_Module Import"
   ]
  },
  {
   "cell_type": "markdown",
   "metadata": {},
   "source": [
    "#### Module import"
   ]
  },
  {
   "cell_type": "code",
   "execution_count": 11,
   "id": "9aa040a5",
   "metadata": {},
   "outputs": [],
   "source": [
    "#region Basic_Import\n",
    "## Basic\n",
    "import os, sys, warnings\n",
    "os.path.dirname(os.path.abspath('__file__'))\n",
    "sys.path.append(os.path.dirname(os.path.abspath(os.path.dirname('__file__'))))\n",
    "warnings.filterwarnings('ignore')\n",
    "\n",
    "import numpy as np, pandas as pd\n",
    "from pandas import DataFrame, Series\n",
    "import math, random\n",
    "\n",
    "## Datetime\n",
    "import time\n",
    "import datetime as dt\n",
    "from datetime import datetime, date, timedelta\n",
    "\n",
    "import glob\n",
    "from glob import glob\n",
    "import requests\n",
    "import json\n",
    "\n",
    "## 시각화\n",
    "import seaborn as sns\n",
    "import matplotlib.pyplot as plt\n",
    "%matplotlib inline\n",
    "plt.rcParams['figure.figsize'] = [10, 8]\n",
    "\n",
    "from scipy import stats\n",
    "\n",
    "# K-Means 알고리즘\n",
    "from sklearn.cluster import KMeans, MiniBatchKMeans\n",
    "from sklearn.model_selection import train_test_split\n",
    "\n",
    "# CLustering 알고리즘의 성능 평가 측도\n",
    "from sklearn.metrics import homogeneity_score, completeness_score, v_measure_score, adjusted_rand_score, silhouette_score, rand_score, calinski_harabasz_score, davies_bouldin_score\n",
    "from sklearn.metrics.cluster import contingency_matrix\n",
    "\n",
    "## 정규화\n",
    "from sklearn.preprocessing import MinMaxScaler, StandardScaler\n",
    "from sklearn import metrics\n",
    "\n",
    "import urllib\n",
    "from urllib.request import urlopen\n",
    "from urllib.parse import urlencode, unquote, quote_plus\n",
    "\n",
    "from selenium import webdriver\n",
    "from selenium.webdriver.chrome.service import Service\n",
    "from webdriver_manager.chrome import ChromeDriverManager\n",
    "from bs4 import BeautifulSoup\n",
    "\n",
    "## Init.\n",
    "pd.options.display.float_format = '{:.10f}'.format\n",
    "#endregion Basic_Import"
   ]
  },
  {
   "cell_type": "code",
   "execution_count": 12,
   "id": "cd5027e3",
   "metadata": {},
   "outputs": [
    {
     "name": "stdout",
     "output_type": "stream",
     "text": [
      "Tensorflow Imported\n"
     ]
    }
   ],
   "source": [
    "## Import_DL\n",
    "str_tar = \"tf\"\n",
    "## For Torch\n",
    "if str_tar == \"torch\":\n",
    "    import torch\n",
    "    import torch.nn as nn\n",
    "    from torch.nn.utils import weight_norm\n",
    "    print(\"Torch Imported\")\n",
    "## For TF\n",
    "elif str_tar == \"tf\":\n",
    "    import tensorflow as tf\n",
    "    import tensorflow_addons as tfa\n",
    "    from keras.callbacks import EarlyStopping, ModelCheckpoint\n",
    "    from keras.models import Sequential, load_model\n",
    "    from keras_flops import get_flops\n",
    "    print(\"Tensorflow Imported\")\n",
    "else:\n",
    "    print(\"Error : Cannot be used except for Keywords\")\n",
    "    print(\" : torch / tf\")"
   ]
  },
  {
   "cell_type": "code",
   "execution_count": 1,
   "id": "67985a3e",
   "metadata": {},
   "outputs": [],
   "source": [
    "## Import_Local\n",
    "# from Src_Dev_Common import DEV_Common_Data_Datetime as com_date\n",
    "# from Src_Dev_Common import DEV_KASI_Holiday as com_Holi\n",
    "# from Src_Dev_Common import DEV_Common_Data_Analysis as com_Analysis\n",
    "# from Src_Dev_Common import DEV_Common_Data_Preprocessing as com_Prep\n",
    "# from Src_Dev_Common import DEV_Common_Model as com_Model\n",
    "# from Src_Dev_Common import DEV_Common_Data_Visualization as com_Visual\n",
    "# from Src_Dev_Common import DEV_KMA_Weather_ASOS as com_ASOS\n",
    "# from Src_Dev_Common import DEV_KDHC_Usage as com_KDHC\n",
    "# from Src_Dev_Common import DEV_KIER_Usage as com_KIER"
   ]
  },
  {
   "cell_type": "markdown",
   "metadata": {},
   "source": [
    "### 01-01-02. Config (Directory, Params)"
   ]
  },
  {
   "cell_type": "code",
   "execution_count": 14,
   "metadata": {},
   "outputs": [],
   "source": [
    "## Init_config\n",
    "SEED = 42\n",
    "\n",
    "np.random.seed(SEED)\n",
    "tf.random.set_seed(SEED)\n",
    "os.environ[\"PYTHONHASHSEED\"] = str(SEED)\n",
    "os.environ['TF_DETERMINISTIC_OPS'] = \"1\"\n",
    "random.seed(SEED)"
   ]
  },
  {
   "cell_type": "code",
   "execution_count": 15,
   "id": "e7f5268f",
   "metadata": {},
   "outputs": [
    {
     "name": "stdout",
     "output_type": "stream",
     "text": [
      "2024-06-27 15:01:21.692008\n",
      "2024 / 6 / 27\n",
      "15 : 1\n"
     ]
    }
   ],
   "source": [
    "## Define Todate str\n",
    "str_now_ymd = pd.datetime.now().date()\n",
    "str_now_y, str_now_m, str_now_d = pd.datetime.now().year, pd.datetime.now().month, pd.datetime.now().day\n",
    "str_now_hr, str_now_min = pd.datetime.now().hour, pd.datetime.now().minute\n",
    "\n",
    "print(pd.datetime.now())\n",
    "print(str(str_now_y) + \" / \" + str(str_now_m)  + \" / \" + str(str_now_d))\n",
    "print(str(str_now_hr) + \" : \" + str(str_now_min))"
   ]
  },
  {
   "cell_type": "code",
   "execution_count": 16,
   "id": "a5d5095a",
   "metadata": {},
   "outputs": [
    {
     "name": "stdout",
     "output_type": "stream",
     "text": [
      "['.ipynb_checkpoints', 'BS_CONFIGURATION_202309251452.csv', 'DATE_1M_2023-10-20.csv', 'KIER 전처리 현황_2024-06-25.xlsx', 'KIER_0_Raw', 'KIER_1_BLD', 'KIER_2_H_ELEC', 'KIER_2_H_GAS', 'KIER_2_H_HEAT', 'KIER_2_H_HOT_FLOW', 'KIER_2_H_HOT_HEAT', 'KIER_2_H_WATER', 'KIER_ASOS_WEATHER_DAILY_202309251521.csv', 'KIER_ASOS_WEATHER_HOUR_202309251521.csv', 'KIER_DATA_OLD', 'KIER_ETC', 'KIER_hList_Comparison_2024-06-26.xlsx', 'KIER_List_Table_Column_2023-09-25.xlsx', 'KIER_Query_2023-09-25.txt', 'KMA_ASOS_119_2010_2023_1st_to CSV.csv', '[IITP] 데이터 테이블 정리 (공유 원본).docx', '~$KIER 전처리 현황_2024-06-25.xlsx']\n",
      "\n",
      "['KIER_GAS_561-1-1_ACCU_01_Raw.csv', 'KIER_GAS_561-1-1_INST_01_10min.csv', 'KIER_GAS_561-1-2_ACCU_01_Raw.csv', 'KIER_GAS_561-1-2_INST_01_10min.csv', 'KIER_GAS_561-1-3_ACCU_01_Raw.csv', 'KIER_GAS_561-1-3_INST_01_10min.csv', 'KIER_GAS_561-1-4_ACCU_01_Raw.csv', 'KIER_GAS_561-1-4_INST_01_10min.csv', 'KIER_GAS_561-10-1_ACCU_01_Raw.csv', 'KIER_GAS_561-10-1_INST_01_10min.csv', 'KIER_GAS_561-10-2_ACCU_01_Raw.csv', 'KIER_GAS_561-10-2_INST_01_10min.csv', 'KIER_GAS_561-10-3_ACCU_01_Raw.csv', 'KIER_GAS_561-10-3_INST_01_10min.csv', 'KIER_GAS_561-10-4_ACCU_01_Raw.csv', 'KIER_GAS_561-10-4_INST_01_10min.csv', 'KIER_GAS_561-11-1_ACCU_01_Raw.csv', 'KIER_GAS_561-11-1_INST_01_10min.csv', 'KIER_GAS_561-11-2_ACCU_01_Raw.csv', 'KIER_GAS_561-11-2_INST_01_10min.csv', 'KIER_GAS_561-11-3_ACCU_01_Raw.csv', 'KIER_GAS_561-11-3_INST_01_10min.csv', 'KIER_GAS_561-11-4_ACCU_01_Raw.csv', 'KIER_GAS_561-11-4_INST_01_10min.csv', 'KIER_GAS_561-12-1_ACCU_01_Raw.csv', 'KIER_GAS_561-12-1_INST_01_10min.csv', 'KIER_GAS_561-12-2_ACCU_01_Raw.csv', 'KIER_GAS_561-12-2_INST_01_10min.csv', 'KIER_GAS_561-12-3_ACCU_01_Raw.csv', 'KIER_GAS_561-12-3_INST_01_10min.csv', 'KIER_GAS_561-12-4_ACCU_01_Raw.csv', 'KIER_GAS_561-12-4_INST_01_10min.csv', 'KIER_GAS_561-13-1_ACCU_01_Raw.csv', 'KIER_GAS_561-13-1_INST_01_10min.csv', 'KIER_GAS_561-13-2_ACCU_01_Raw.csv', 'KIER_GAS_561-13-2_INST_01_10min.csv', 'KIER_GAS_561-13-3_ACCU_01_Raw.csv', 'KIER_GAS_561-13-3_INST_01_10min.csv', 'KIER_GAS_561-13-4_ACCU_01_Raw.csv', 'KIER_GAS_561-13-4_INST_01_10min.csv', 'KIER_GAS_561-14-1_ACCU_01_Raw.csv', 'KIER_GAS_561-14-1_INST_01_10min.csv', 'KIER_GAS_561-14-2_ACCU_01_Raw.csv', 'KIER_GAS_561-14-2_INST_01_10min.csv', 'KIER_GAS_561-14-3_ACCU_01_Raw.csv', 'KIER_GAS_561-14-3_INST_01_10min.csv', 'KIER_GAS_561-14-4_ACCU_01_Raw.csv', 'KIER_GAS_561-14-4_INST_01_10min.csv', 'KIER_GAS_561-15-1_ACCU_01_Raw.csv', 'KIER_GAS_561-15-1_INST_01_10min.csv', 'KIER_GAS_561-15-2_ACCU_01_Raw.csv', 'KIER_GAS_561-15-2_INST_01_10min.csv', 'KIER_GAS_561-15-3_ACCU_01_Raw.csv', 'KIER_GAS_561-15-3_INST_01_10min.csv', 'KIER_GAS_561-15-4_ACCU_01_Raw.csv', 'KIER_GAS_561-15-4_INST_01_10min.csv', 'KIER_GAS_561-16-1_ACCU_01_Raw.csv', 'KIER_GAS_561-16-1_INST_01_10min.csv', 'KIER_GAS_561-16-2_ACCU_01_Raw.csv', 'KIER_GAS_561-16-2_INST_01_10min.csv', 'KIER_GAS_561-16-3_ACCU_01_Raw.csv', 'KIER_GAS_561-16-3_INST_01_10min.csv', 'KIER_GAS_561-16-4_ACCU_01_Raw.csv', 'KIER_GAS_561-16-4_INST_01_10min.csv', 'KIER_GAS_561-17-1_ACCU_01_Raw.csv', 'KIER_GAS_561-17-1_INST_01_10min.csv', 'KIER_GAS_561-17-2_ACCU_01_Raw.csv', 'KIER_GAS_561-17-2_INST_01_10min.csv', 'KIER_GAS_561-17-3_ACCU_01_Raw.csv', 'KIER_GAS_561-17-3_INST_01_10min.csv', 'KIER_GAS_561-17-4_ACCU_01_Raw.csv', 'KIER_GAS_561-17-4_INST_01_10min.csv', 'KIER_GAS_561-18-1_ACCU_01_Raw.csv', 'KIER_GAS_561-18-1_INST_01_10min.csv', 'KIER_GAS_561-18-2_ACCU_01_Raw.csv', 'KIER_GAS_561-18-2_INST_01_10min.csv', 'KIER_GAS_561-18-3_ACCU_01_Raw.csv', 'KIER_GAS_561-18-3_INST_01_10min.csv', 'KIER_GAS_561-18-4_ACCU_01_Raw.csv', 'KIER_GAS_561-18-4_INST_01_10min.csv', 'KIER_GAS_561-2-1_ACCU_01_Raw.csv', 'KIER_GAS_561-2-1_INST_01_10min.csv', 'KIER_GAS_561-2-2_ACCU_01_Raw.csv', 'KIER_GAS_561-2-2_INST_01_10min.csv', 'KIER_GAS_561-2-3_ACCU_01_Raw.csv', 'KIER_GAS_561-2-3_INST_01_10min.csv', 'KIER_GAS_561-2-4_ACCU_01_Raw.csv', 'KIER_GAS_561-2-4_INST_01_10min.csv', 'KIER_GAS_561-3-1_ACCU_01_Raw.csv', 'KIER_GAS_561-3-1_INST_01_10min.csv', 'KIER_GAS_561-3-2_ACCU_01_Raw.csv', 'KIER_GAS_561-3-2_INST_01_10min.csv', 'KIER_GAS_561-3-3_ACCU_01_Raw.csv', 'KIER_GAS_561-3-3_INST_01_10min.csv', 'KIER_GAS_561-3-4_ACCU_01_Raw.csv', 'KIER_GAS_561-3-4_INST_01_10min.csv', 'KIER_GAS_561-4-1_ACCU_01_Raw.csv', 'KIER_GAS_561-4-1_INST_01_10min.csv', 'KIER_GAS_561-4-2_ACCU_01_Raw.csv', 'KIER_GAS_561-4-2_INST_01_10min.csv', 'KIER_GAS_561-4-3_ACCU_01_Raw.csv', 'KIER_GAS_561-4-3_INST_01_10min.csv', 'KIER_GAS_561-4-4_ACCU_01_Raw.csv', 'KIER_GAS_561-4-4_INST_01_10min.csv', 'KIER_GAS_561-5-1_ACCU_01_Raw.csv', 'KIER_GAS_561-5-1_INST_01_10min.csv', 'KIER_GAS_561-5-2_ACCU_01_Raw.csv', 'KIER_GAS_561-5-2_INST_01_10min.csv', 'KIER_GAS_561-5-3_ACCU_01_Raw.csv', 'KIER_GAS_561-5-3_INST_01_10min.csv', 'KIER_GAS_561-5-4_ACCU_01_Raw.csv', 'KIER_GAS_561-5-4_INST_01_10min.csv', 'KIER_GAS_561-6-1_ACCU_01_Raw.csv', 'KIER_GAS_561-6-1_INST_01_10min.csv', 'KIER_GAS_561-6-2_ACCU_01_Raw.csv', 'KIER_GAS_561-6-2_INST_01_10min.csv', 'KIER_GAS_561-6-3_ACCU_01_Raw.csv', 'KIER_GAS_561-6-3_INST_01_10min.csv', 'KIER_GAS_561-6-4_ACCU_01_Raw.csv', 'KIER_GAS_561-6-4_INST_01_10min.csv', 'KIER_GAS_561-7-1_ACCU_01_Raw.csv', 'KIER_GAS_561-7-1_INST_01_10min.csv', 'KIER_GAS_561-7-2_ACCU_01_Raw.csv', 'KIER_GAS_561-7-2_INST_01_10min.csv', 'KIER_GAS_561-7-3_ACCU_01_Raw.csv', 'KIER_GAS_561-7-3_INST_01_10min.csv', 'KIER_GAS_561-7-4_ACCU_01_Raw.csv', 'KIER_GAS_561-7-4_INST_01_10min.csv', 'KIER_GAS_561-8-1_ACCU_01_Raw.csv', 'KIER_GAS_561-8-1_INST_01_10min.csv', 'KIER_GAS_561-8-2_ACCU_01_Raw.csv', 'KIER_GAS_561-8-2_INST_01_10min.csv', 'KIER_GAS_561-8-3_ACCU_01_Raw.csv', 'KIER_GAS_561-8-3_INST_01_10min.csv', 'KIER_GAS_561-8-4_ACCU_01_Raw.csv', 'KIER_GAS_561-8-4_INST_01_10min.csv', 'KIER_GAS_561-9-1_ACCU_01_Raw.csv', 'KIER_GAS_561-9-1_INST_01_10min.csv', 'KIER_GAS_561-9-2_ACCU_01_Raw.csv', 'KIER_GAS_561-9-2_INST_01_10min.csv', 'KIER_GAS_561-9-3_ACCU_01_Raw.csv', 'KIER_GAS_561-9-3_INST_01_10min.csv', 'KIER_GAS_561-9-4_ACCU_01_Raw.csv', 'KIER_GAS_561-9-4_INST_01_10min.csv', 'KIER_GAS_562-1-1_ACCU_01_Raw.csv', 'KIER_GAS_562-1-1_INST_01_10min.csv', 'KIER_GAS_562-1-2_ACCU_01_Raw.csv', 'KIER_GAS_562-1-2_INST_01_10min.csv', 'KIER_GAS_562-1-3_ACCU_01_Raw.csv', 'KIER_GAS_562-1-3_INST_01_10min.csv', 'KIER_GAS_562-1-4_ACCU_01_Raw.csv', 'KIER_GAS_562-1-4_INST_01_10min.csv', 'KIER_GAS_562-1-5_ACCU_01_Raw.csv', 'KIER_GAS_562-1-5_INST_01_10min.csv', 'KIER_GAS_562-1-6_ACCU_01_Raw.csv', 'KIER_GAS_562-1-6_INST_01_10min.csv', 'KIER_GAS_562-10-1_ACCU_01_Raw.csv', 'KIER_GAS_562-10-1_INST_01_10min.csv', 'KIER_GAS_562-10-2_ACCU_01_Raw.csv', 'KIER_GAS_562-10-2_INST_01_10min.csv', 'KIER_GAS_562-10-3_ACCU_01_Raw.csv', 'KIER_GAS_562-10-3_INST_01_10min.csv', 'KIER_GAS_562-10-4_ACCU_01_Raw.csv', 'KIER_GAS_562-10-4_INST_01_10min.csv', 'KIER_GAS_562-10-5_ACCU_01_Raw.csv', 'KIER_GAS_562-10-5_INST_01_10min.csv', 'KIER_GAS_562-10-6_ACCU_01_Raw.csv', 'KIER_GAS_562-10-6_INST_01_10min.csv', 'KIER_GAS_562-11-1_ACCU_01_Raw.csv', 'KIER_GAS_562-11-1_INST_01_10min.csv', 'KIER_GAS_562-11-2_ACCU_01_Raw.csv', 'KIER_GAS_562-11-2_INST_01_10min.csv', 'KIER_GAS_562-11-3_ACCU_01_Raw.csv', 'KIER_GAS_562-11-3_INST_01_10min.csv', 'KIER_GAS_562-11-4_ACCU_01_Raw.csv', 'KIER_GAS_562-11-4_INST_01_10min.csv', 'KIER_GAS_562-11-5_ACCU_01_Raw.csv', 'KIER_GAS_562-11-5_INST_01_10min.csv', 'KIER_GAS_562-11-6_ACCU_01_Raw.csv', 'KIER_GAS_562-11-6_INST_01_10min.csv', 'KIER_GAS_562-12-1_ACCU_01_Raw.csv', 'KIER_GAS_562-12-1_INST_01_10min.csv', 'KIER_GAS_562-12-2_ACCU_01_Raw.csv', 'KIER_GAS_562-12-2_INST_01_10min.csv', 'KIER_GAS_562-12-3_ACCU_01_Raw.csv', 'KIER_GAS_562-12-3_INST_01_10min.csv', 'KIER_GAS_562-12-4_ACCU_01_Raw.csv', 'KIER_GAS_562-12-4_INST_01_10min.csv', 'KIER_GAS_562-12-5_ACCU_01_Raw.csv', 'KIER_GAS_562-12-5_INST_01_10min.csv', 'KIER_GAS_562-12-6_ACCU_01_Raw.csv', 'KIER_GAS_562-12-6_INST_01_10min.csv', 'KIER_GAS_562-13-1_ACCU_01_Raw.csv', 'KIER_GAS_562-13-1_INST_01_10min.csv', 'KIER_GAS_562-13-2_ACCU_01_Raw.csv', 'KIER_GAS_562-13-2_INST_01_10min.csv', 'KIER_GAS_562-13-3_ACCU_01_Raw.csv', 'KIER_GAS_562-13-3_INST_01_10min.csv', 'KIER_GAS_562-13-4_ACCU_01_Raw.csv', 'KIER_GAS_562-13-4_INST_01_10min.csv', 'KIER_GAS_562-13-5_ACCU_01_Raw.csv', 'KIER_GAS_562-13-5_INST_01_10min.csv', 'KIER_GAS_562-13-6_ACCU_01_Raw.csv', 'KIER_GAS_562-13-6_INST_01_10min.csv', 'KIER_GAS_562-14-1_ACCU_01_Raw.csv', 'KIER_GAS_562-14-1_INST_01_10min.csv', 'KIER_GAS_562-14-2_ACCU_01_Raw.csv', 'KIER_GAS_562-14-2_INST_01_10min.csv', 'KIER_GAS_562-14-3_ACCU_01_Raw.csv', 'KIER_GAS_562-14-3_INST_01_10min.csv', 'KIER_GAS_562-14-4_ACCU_01_Raw.csv', 'KIER_GAS_562-14-4_INST_01_10min.csv', 'KIER_GAS_562-14-5_ACCU_01_Raw.csv', 'KIER_GAS_562-14-5_INST_01_10min.csv', 'KIER_GAS_562-14-6_ACCU_01_Raw.csv', 'KIER_GAS_562-14-6_INST_01_10min.csv', 'KIER_GAS_562-15-1_ACCU_01_Raw.csv', 'KIER_GAS_562-15-1_INST_01_10min.csv', 'KIER_GAS_562-15-2_ACCU_01_Raw.csv', 'KIER_GAS_562-15-2_INST_01_10min.csv', 'KIER_GAS_562-15-3_ACCU_01_Raw.csv', 'KIER_GAS_562-15-3_INST_01_10min.csv', 'KIER_GAS_562-15-4_ACCU_01_Raw.csv', 'KIER_GAS_562-15-4_INST_01_10min.csv', 'KIER_GAS_562-15-5_ACCU_01_Raw.csv', 'KIER_GAS_562-15-5_INST_01_10min.csv', 'KIER_GAS_562-15-6_ACCU_01_Raw.csv', 'KIER_GAS_562-15-6_INST_01_10min.csv', 'KIER_GAS_562-16-1_ACCU_01_Raw.csv', 'KIER_GAS_562-16-1_INST_01_10min.csv', 'KIER_GAS_562-16-2_ACCU_01_Raw.csv', 'KIER_GAS_562-16-2_INST_01_10min.csv', 'KIER_GAS_562-16-3_ACCU_01_Raw.csv', 'KIER_GAS_562-16-3_INST_01_10min.csv', 'KIER_GAS_562-16-4_ACCU_01_Raw.csv', 'KIER_GAS_562-16-4_INST_01_10min.csv', 'KIER_GAS_562-16-5_ACCU_01_Raw.csv', 'KIER_GAS_562-16-5_INST_01_10min.csv', 'KIER_GAS_562-16-6_ACCU_01_Raw.csv', 'KIER_GAS_562-16-6_INST_01_10min.csv', 'KIER_GAS_562-17-1_ACCU_01_Raw.csv', 'KIER_GAS_562-17-1_INST_01_10min.csv', 'KIER_GAS_562-17-2_ACCU_01_Raw.csv', 'KIER_GAS_562-17-2_INST_01_10min.csv', 'KIER_GAS_562-17-3_ACCU_01_Raw.csv', 'KIER_GAS_562-17-3_INST_01_10min.csv', 'KIER_GAS_562-17-4_ACCU_01_Raw.csv', 'KIER_GAS_562-17-4_INST_01_10min.csv', 'KIER_GAS_562-17-5_ACCU_01_Raw.csv', 'KIER_GAS_562-17-5_INST_01_10min.csv', 'KIER_GAS_562-17-6_ACCU_01_Raw.csv', 'KIER_GAS_562-17-6_INST_01_10min.csv', 'KIER_GAS_562-18-1_ACCU_01_Raw.csv', 'KIER_GAS_562-18-1_INST_01_10min.csv', 'KIER_GAS_562-18-2_ACCU_01_Raw.csv', 'KIER_GAS_562-18-2_INST_01_10min.csv', 'KIER_GAS_562-18-3_ACCU_01_Raw.csv', 'KIER_GAS_562-18-3_INST_01_10min.csv', 'KIER_GAS_562-18-4_ACCU_01_Raw.csv', 'KIER_GAS_562-18-4_INST_01_10min.csv', 'KIER_GAS_562-18-5_ACCU_01_Raw.csv', 'KIER_GAS_562-18-5_INST_01_10min.csv', 'KIER_GAS_562-18-6_ACCU_01_Raw.csv', 'KIER_GAS_562-18-6_INST_01_10min.csv', 'KIER_GAS_562-19-1_ACCU_01_Raw.csv', 'KIER_GAS_562-19-1_INST_01_10min.csv', 'KIER_GAS_562-19-2_ACCU_01_Raw.csv', 'KIER_GAS_562-19-2_INST_01_10min.csv', 'KIER_GAS_562-19-3_ACCU_01_Raw.csv', 'KIER_GAS_562-19-3_INST_01_10min.csv', 'KIER_GAS_562-19-4_ACCU_01_Raw.csv', 'KIER_GAS_562-19-4_INST_01_10min.csv', 'KIER_GAS_562-19-5_ACCU_01_Raw.csv', 'KIER_GAS_562-19-5_INST_01_10min.csv', 'KIER_GAS_562-19-6_ACCU_01_Raw.csv', 'KIER_GAS_562-19-6_INST_01_10min.csv', 'KIER_GAS_562-2-1_ACCU_01_Raw.csv', 'KIER_GAS_562-2-1_INST_01_10min.csv', 'KIER_GAS_562-2-2_ACCU_01_Raw.csv', 'KIER_GAS_562-2-2_INST_01_10min.csv', 'KIER_GAS_562-2-3_ACCU_01_Raw.csv', 'KIER_GAS_562-2-3_INST_01_10min.csv', 'KIER_GAS_562-2-4_ACCU_01_Raw.csv', 'KIER_GAS_562-2-4_INST_01_10min.csv', 'KIER_GAS_562-2-5_ACCU_01_Raw.csv', 'KIER_GAS_562-2-5_INST_01_10min.csv', 'KIER_GAS_562-2-6_ACCU_01_Raw.csv', 'KIER_GAS_562-2-6_INST_01_10min.csv', 'KIER_GAS_562-20-1_ACCU_01_Raw.csv', 'KIER_GAS_562-20-1_INST_01_10min.csv', 'KIER_GAS_562-20-2_ACCU_01_Raw.csv', 'KIER_GAS_562-20-2_INST_01_10min.csv', 'KIER_GAS_562-20-3_ACCU_01_Raw.csv', 'KIER_GAS_562-20-3_INST_01_10min.csv', 'KIER_GAS_562-20-4_ACCU_01_Raw.csv', 'KIER_GAS_562-20-4_INST_01_10min.csv', 'KIER_GAS_562-20-5_ACCU_01_Raw.csv', 'KIER_GAS_562-20-5_INST_01_10min.csv', 'KIER_GAS_562-20-6_ACCU_01_Raw.csv', 'KIER_GAS_562-20-6_INST_01_10min.csv', 'KIER_GAS_562-21-1_ACCU_01_Raw.csv', 'KIER_GAS_562-21-1_INST_01_10min.csv', 'KIER_GAS_562-21-2_ACCU_01_Raw.csv', 'KIER_GAS_562-21-2_INST_01_10min.csv', 'KIER_GAS_562-21-3_ACCU_01_Raw.csv', 'KIER_GAS_562-21-3_INST_01_10min.csv', 'KIER_GAS_562-21-4_ACCU_01_Raw.csv', 'KIER_GAS_562-21-4_INST_01_10min.csv', 'KIER_GAS_562-21-5_ACCU_01_Raw.csv', 'KIER_GAS_562-21-5_INST_01_10min.csv', 'KIER_GAS_562-21-6_ACCU_01_Raw.csv', 'KIER_GAS_562-21-6_INST_01_10min.csv', 'KIER_GAS_562-22-1_ACCU_01_Raw.csv', 'KIER_GAS_562-22-1_INST_01_10min.csv', 'KIER_GAS_562-22-2_ACCU_01_Raw.csv', 'KIER_GAS_562-22-2_INST_01_10min.csv', 'KIER_GAS_562-22-3_ACCU_01_Raw.csv', 'KIER_GAS_562-22-3_INST_01_10min.csv', 'KIER_GAS_562-22-4_ACCU_01_Raw.csv', 'KIER_GAS_562-22-4_INST_01_10min.csv', 'KIER_GAS_562-22-5_ACCU_01_Raw.csv', 'KIER_GAS_562-22-5_INST_01_10min.csv', 'KIER_GAS_562-22-6_ACCU_01_Raw.csv', 'KIER_GAS_562-22-6_INST_01_10min.csv', 'KIER_GAS_562-23-1_ACCU_01_Raw.csv', 'KIER_GAS_562-23-1_INST_01_10min.csv', 'KIER_GAS_562-23-2_ACCU_01_Raw.csv', 'KIER_GAS_562-23-2_INST_01_10min.csv', 'KIER_GAS_562-23-3_ACCU_01_Raw.csv', 'KIER_GAS_562-23-3_INST_01_10min.csv', 'KIER_GAS_562-23-4_ACCU_01_Raw.csv', 'KIER_GAS_562-23-4_INST_01_10min.csv', 'KIER_GAS_562-24-1_ACCU_01_Raw.csv', 'KIER_GAS_562-24-1_INST_01_10min.csv', 'KIER_GAS_562-24-2_ACCU_01_Raw.csv', 'KIER_GAS_562-24-2_INST_01_10min.csv', 'KIER_GAS_562-3-1_ACCU_01_Raw.csv', 'KIER_GAS_562-3-1_INST_01_10min.csv', 'KIER_GAS_562-3-2_ACCU_01_Raw.csv', 'KIER_GAS_562-3-2_INST_01_10min.csv', 'KIER_GAS_562-3-3_ACCU_01_Raw.csv', 'KIER_GAS_562-3-3_INST_01_10min.csv', 'KIER_GAS_562-3-4_ACCU_01_Raw.csv', 'KIER_GAS_562-3-4_INST_01_10min.csv', 'KIER_GAS_562-3-5_ACCU_01_Raw.csv', 'KIER_GAS_562-3-5_INST_01_10min.csv', 'KIER_GAS_562-3-6_ACCU_01_Raw.csv', 'KIER_GAS_562-3-6_INST_01_10min.csv', 'KIER_GAS_562-4-1_ACCU_01_Raw.csv', 'KIER_GAS_562-4-1_INST_01_10min.csv', 'KIER_GAS_562-4-2_ACCU_01_Raw.csv', 'KIER_GAS_562-4-2_INST_01_10min.csv', 'KIER_GAS_562-4-3_ACCU_01_Raw.csv', 'KIER_GAS_562-4-3_INST_01_10min.csv', 'KIER_GAS_562-4-4_ACCU_01_Raw.csv', 'KIER_GAS_562-4-4_INST_01_10min.csv', 'KIER_GAS_562-4-5_ACCU_01_Raw.csv', 'KIER_GAS_562-4-5_INST_01_10min.csv', 'KIER_GAS_562-4-6_ACCU_01_Raw.csv', 'KIER_GAS_562-4-6_INST_01_10min.csv', 'KIER_GAS_562-5-1_ACCU_01_Raw.csv', 'KIER_GAS_562-5-1_INST_01_10min.csv', 'KIER_GAS_562-5-2_ACCU_01_Raw.csv', 'KIER_GAS_562-5-2_INST_01_10min.csv', 'KIER_GAS_562-5-3_ACCU_01_Raw.csv', 'KIER_GAS_562-5-3_INST_01_10min.csv', 'KIER_GAS_562-5-4_ACCU_01_Raw.csv', 'KIER_GAS_562-5-4_INST_01_10min.csv', 'KIER_GAS_562-5-5_ACCU_01_Raw.csv', 'KIER_GAS_562-5-5_INST_01_10min.csv', 'KIER_GAS_562-5-6_ACCU_01_Raw.csv', 'KIER_GAS_562-5-6_INST_01_10min.csv', 'KIER_GAS_562-6-1_ACCU_01_Raw.csv', 'KIER_GAS_562-6-1_INST_01_10min.csv', 'KIER_GAS_562-6-2_ACCU_01_Raw.csv', 'KIER_GAS_562-6-2_INST_01_10min.csv', 'KIER_GAS_562-6-3_ACCU_01_Raw.csv', 'KIER_GAS_562-6-3_INST_01_10min.csv', 'KIER_GAS_562-6-4_ACCU_01_Raw.csv', 'KIER_GAS_562-6-4_INST_01_10min.csv', 'KIER_GAS_562-6-5_ACCU_01_Raw.csv', 'KIER_GAS_562-6-5_INST_01_10min.csv', 'KIER_GAS_562-6-6_ACCU_01_Raw.csv', 'KIER_GAS_562-6-6_INST_01_10min.csv', 'KIER_GAS_562-7-1_ACCU_01_Raw.csv', 'KIER_GAS_562-7-1_INST_01_10min.csv', 'KIER_GAS_562-7-2_ACCU_01_Raw.csv', 'KIER_GAS_562-7-2_INST_01_10min.csv', 'KIER_GAS_562-7-3_ACCU_01_Raw.csv', 'KIER_GAS_562-7-3_INST_01_10min.csv', 'KIER_GAS_562-7-4_ACCU_01_Raw.csv', 'KIER_GAS_562-7-4_INST_01_10min.csv', 'KIER_GAS_562-7-5_ACCU_01_Raw.csv', 'KIER_GAS_562-7-5_INST_01_10min.csv', 'KIER_GAS_562-7-6_ACCU_01_Raw.csv', 'KIER_GAS_562-7-6_INST_01_10min.csv', 'KIER_GAS_562-8-1_ACCU_01_Raw.csv', 'KIER_GAS_562-8-1_INST_01_10min.csv', 'KIER_GAS_562-8-2_ACCU_01_Raw.csv', 'KIER_GAS_562-8-2_INST_01_10min.csv', 'KIER_GAS_562-8-3_ACCU_01_Raw.csv', 'KIER_GAS_562-8-3_INST_01_10min.csv', 'KIER_GAS_562-8-4_ACCU_01_Raw.csv', 'KIER_GAS_562-8-4_INST_01_10min.csv', 'KIER_GAS_562-8-5_ACCU_01_Raw.csv', 'KIER_GAS_562-8-5_INST_01_10min.csv', 'KIER_GAS_562-8-6_ACCU_01_Raw.csv', 'KIER_GAS_562-8-6_INST_01_10min.csv', 'KIER_GAS_562-9-1_ACCU_01_Raw.csv', 'KIER_GAS_562-9-1_INST_01_10min.csv', 'KIER_GAS_562-9-2_ACCU_01_Raw.csv', 'KIER_GAS_562-9-2_INST_01_10min.csv', 'KIER_GAS_562-9-3_ACCU_01_Raw.csv', 'KIER_GAS_562-9-3_INST_01_10min.csv', 'KIER_GAS_562-9-4_ACCU_01_Raw.csv', 'KIER_GAS_562-9-4_INST_01_10min.csv', 'KIER_GAS_562-9-5_ACCU_01_Raw.csv', 'KIER_GAS_562-9-5_INST_01_10min.csv', 'KIER_GAS_562-9-6_ACCU_01_Raw.csv', 'KIER_GAS_562-9-6_INST_01_10min.csv', 'KIER_GAS_563-1-1_ACCU_01_Raw.csv', 'KIER_GAS_563-1-1_INST_01_10min.csv', 'KIER_GAS_563-1-2_ACCU_01_Raw.csv', 'KIER_GAS_563-1-2_INST_01_10min.csv', 'KIER_GAS_563-1-3_ACCU_01_Raw.csv', 'KIER_GAS_563-1-3_INST_01_10min.csv', 'KIER_GAS_563-1-4_ACCU_01_Raw.csv', 'KIER_GAS_563-1-4_INST_01_10min.csv', 'KIER_GAS_563-1-5_ACCU_01_Raw.csv', 'KIER_GAS_563-1-5_INST_01_10min.csv', 'KIER_GAS_563-1-6_ACCU_01_Raw.csv', 'KIER_GAS_563-1-6_INST_01_10min.csv', 'KIER_GAS_563-10-1_ACCU_01_Raw.csv', 'KIER_GAS_563-10-1_INST_01_10min.csv', 'KIER_GAS_563-10-2_ACCU_01_Raw.csv', 'KIER_GAS_563-10-2_INST_01_10min.csv', 'KIER_GAS_563-10-3_ACCU_01_Raw.csv', 'KIER_GAS_563-10-3_INST_01_10min.csv', 'KIER_GAS_563-10-4_ACCU_01_Raw.csv', 'KIER_GAS_563-10-4_INST_01_10min.csv', 'KIER_GAS_563-10-5_ACCU_01_Raw.csv', 'KIER_GAS_563-10-5_INST_01_10min.csv', 'KIER_GAS_563-10-6_ACCU_01_Raw.csv', 'KIER_GAS_563-10-6_INST_01_10min.csv', 'KIER_GAS_563-11-1_ACCU_01_Raw.csv', 'KIER_GAS_563-11-1_INST_01_10min.csv', 'KIER_GAS_563-11-2_ACCU_01_Raw.csv', 'KIER_GAS_563-11-2_INST_01_10min.csv', 'KIER_GAS_563-11-3_ACCU_01_Raw.csv', 'KIER_GAS_563-11-3_INST_01_10min.csv', 'KIER_GAS_563-11-4_ACCU_01_Raw.csv', 'KIER_GAS_563-11-4_INST_01_10min.csv', 'KIER_GAS_563-11-5_ACCU_01_Raw.csv', 'KIER_GAS_563-11-5_INST_01_10min.csv', 'KIER_GAS_563-11-6_ACCU_01_Raw.csv', 'KIER_GAS_563-11-6_INST_01_10min.csv', 'KIER_GAS_563-12-1_ACCU_01_Raw.csv', 'KIER_GAS_563-12-1_INST_01_10min.csv', 'KIER_GAS_563-12-2_ACCU_01_Raw.csv', 'KIER_GAS_563-12-2_INST_01_10min.csv', 'KIER_GAS_563-12-3_ACCU_01_Raw.csv', 'KIER_GAS_563-12-3_INST_01_10min.csv', 'KIER_GAS_563-12-4_ACCU_01_Raw.csv', 'KIER_GAS_563-12-4_INST_01_10min.csv', 'KIER_GAS_563-12-5_ACCU_01_Raw.csv', 'KIER_GAS_563-12-5_INST_01_10min.csv', 'KIER_GAS_563-12-6_ACCU_01_Raw.csv', 'KIER_GAS_563-12-6_INST_01_10min.csv', 'KIER_GAS_563-13-1_ACCU_01_Raw.csv', 'KIER_GAS_563-13-1_INST_01_10min.csv', 'KIER_GAS_563-13-2_ACCU_01_Raw.csv', 'KIER_GAS_563-13-2_INST_01_10min.csv', 'KIER_GAS_563-13-3_ACCU_01_Raw.csv', 'KIER_GAS_563-13-3_INST_01_10min.csv', 'KIER_GAS_563-13-4_ACCU_01_Raw.csv', 'KIER_GAS_563-13-4_INST_01_10min.csv', 'KIER_GAS_563-13-5_ACCU_01_Raw.csv', 'KIER_GAS_563-13-5_INST_01_10min.csv', 'KIER_GAS_563-13-6_ACCU_01_Raw.csv', 'KIER_GAS_563-13-6_INST_01_10min.csv', 'KIER_GAS_563-14-1_ACCU_01_Raw.csv', 'KIER_GAS_563-14-1_INST_01_10min.csv', 'KIER_GAS_563-14-2_ACCU_01_Raw.csv', 'KIER_GAS_563-14-2_INST_01_10min.csv', 'KIER_GAS_563-14-3_ACCU_01_Raw.csv', 'KIER_GAS_563-14-3_INST_01_10min.csv', 'KIER_GAS_563-14-4_ACCU_01_Raw.csv', 'KIER_GAS_563-14-4_INST_01_10min.csv', 'KIER_GAS_563-14-5_ACCU_01_Raw.csv', 'KIER_GAS_563-14-5_INST_01_10min.csv', 'KIER_GAS_563-14-6_ACCU_01_Raw.csv', 'KIER_GAS_563-14-6_INST_01_10min.csv', 'KIER_GAS_563-15-1_ACCU_01_Raw.csv', 'KIER_GAS_563-15-1_INST_01_10min.csv', 'KIER_GAS_563-15-2_ACCU_01_Raw.csv', 'KIER_GAS_563-15-2_INST_01_10min.csv', 'KIER_GAS_563-15-3_ACCU_01_Raw.csv', 'KIER_GAS_563-15-3_INST_01_10min.csv', 'KIER_GAS_563-15-4_ACCU_01_Raw.csv', 'KIER_GAS_563-15-4_INST_01_10min.csv', 'KIER_GAS_563-15-5_ACCU_01_Raw.csv', 'KIER_GAS_563-15-5_INST_01_10min.csv', 'KIER_GAS_563-15-6_ACCU_01_Raw.csv', 'KIER_GAS_563-15-6_INST_01_10min.csv', 'KIER_GAS_563-16-1_ACCU_01_Raw.csv', 'KIER_GAS_563-16-1_INST_01_10min.csv', 'KIER_GAS_563-16-2_ACCU_01_Raw.csv', 'KIER_GAS_563-16-2_INST_01_10min.csv', 'KIER_GAS_563-16-3_ACCU_01_Raw.csv', 'KIER_GAS_563-16-3_INST_01_10min.csv', 'KIER_GAS_563-16-4_ACCU_01_Raw.csv', 'KIER_GAS_563-16-4_INST_01_10min.csv', 'KIER_GAS_563-16-5_ACCU_01_Raw.csv', 'KIER_GAS_563-16-5_INST_01_10min.csv', 'KIER_GAS_563-16-6_ACCU_01_Raw.csv', 'KIER_GAS_563-16-6_INST_01_10min.csv', 'KIER_GAS_563-17-1_ACCU_01_Raw.csv', 'KIER_GAS_563-17-1_INST_01_10min.csv', 'KIER_GAS_563-17-2_ACCU_01_Raw.csv', 'KIER_GAS_563-17-2_INST_01_10min.csv', 'KIER_GAS_563-17-3_ACCU_01_Raw.csv', 'KIER_GAS_563-17-3_INST_01_10min.csv', 'KIER_GAS_563-17-4_ACCU_01_Raw.csv', 'KIER_GAS_563-17-4_INST_01_10min.csv', 'KIER_GAS_563-17-5_ACCU_01_Raw.csv', 'KIER_GAS_563-17-5_INST_01_10min.csv', 'KIER_GAS_563-17-6_ACCU_01_Raw.csv', 'KIER_GAS_563-17-6_INST_01_10min.csv', 'KIER_GAS_563-18-1_ACCU_01_Raw.csv', 'KIER_GAS_563-18-1_INST_01_10min.csv', 'KIER_GAS_563-18-2_ACCU_01_Raw.csv', 'KIER_GAS_563-18-2_INST_01_10min.csv', 'KIER_GAS_563-18-3_ACCU_01_Raw.csv', 'KIER_GAS_563-18-3_INST_01_10min.csv', 'KIER_GAS_563-18-4_ACCU_01_Raw.csv', 'KIER_GAS_563-18-4_INST_01_10min.csv', 'KIER_GAS_563-18-5_ACCU_01_Raw.csv', 'KIER_GAS_563-18-5_INST_01_10min.csv', 'KIER_GAS_563-18-6_ACCU_01_Raw.csv', 'KIER_GAS_563-18-6_INST_01_10min.csv', 'KIER_GAS_563-19-1_ACCU_01_Raw.csv', 'KIER_GAS_563-19-1_INST_01_10min.csv', 'KIER_GAS_563-19-2_ACCU_01_Raw.csv', 'KIER_GAS_563-19-2_INST_01_10min.csv', 'KIER_GAS_563-19-3_ACCU_01_Raw.csv', 'KIER_GAS_563-19-3_INST_01_10min.csv', 'KIER_GAS_563-19-4_ACCU_01_Raw.csv', 'KIER_GAS_563-19-4_INST_01_10min.csv', 'KIER_GAS_563-19-5_ACCU_01_Raw.csv', 'KIER_GAS_563-19-5_INST_01_10min.csv', 'KIER_GAS_563-19-6_ACCU_01_Raw.csv', 'KIER_GAS_563-19-6_INST_01_10min.csv', 'KIER_GAS_563-2-1_ACCU_01_Raw.csv', 'KIER_GAS_563-2-1_INST_01_10min.csv', 'KIER_GAS_563-2-2_ACCU_01_Raw.csv', 'KIER_GAS_563-2-2_INST_01_10min.csv', 'KIER_GAS_563-2-3_ACCU_01_Raw.csv', 'KIER_GAS_563-2-3_INST_01_10min.csv', 'KIER_GAS_563-2-4_ACCU_01_Raw.csv', 'KIER_GAS_563-2-4_INST_01_10min.csv', 'KIER_GAS_563-2-5_ACCU_01_Raw.csv', 'KIER_GAS_563-2-5_INST_01_10min.csv', 'KIER_GAS_563-2-6_ACCU_01_Raw.csv', 'KIER_GAS_563-2-6_INST_01_10min.csv', 'KIER_GAS_563-20-1_ACCU_01_Raw.csv', 'KIER_GAS_563-20-1_INST_01_10min.csv', 'KIER_GAS_563-20-2_ACCU_01_Raw.csv', 'KIER_GAS_563-20-2_INST_01_10min.csv', 'KIER_GAS_563-20-3_ACCU_01_Raw.csv', 'KIER_GAS_563-20-3_INST_01_10min.csv', 'KIER_GAS_563-20-4_ACCU_01_Raw.csv', 'KIER_GAS_563-20-4_INST_01_10min.csv', 'KIER_GAS_563-20-5_ACCU_01_Raw.csv', 'KIER_GAS_563-20-5_INST_01_10min.csv', 'KIER_GAS_563-20-6_ACCU_01_Raw.csv', 'KIER_GAS_563-20-6_INST_01_10min.csv', 'KIER_GAS_563-21-1_ACCU_01_Raw.csv', 'KIER_GAS_563-21-1_INST_01_10min.csv', 'KIER_GAS_563-21-2_ACCU_01_Raw.csv', 'KIER_GAS_563-21-2_INST_01_10min.csv', 'KIER_GAS_563-21-3_ACCU_01_Raw.csv', 'KIER_GAS_563-21-3_INST_01_10min.csv', 'KIER_GAS_563-21-4_ACCU_01_Raw.csv', 'KIER_GAS_563-21-4_INST_01_10min.csv', 'KIER_GAS_563-21-5_ACCU_01_Raw.csv', 'KIER_GAS_563-21-5_INST_01_10min.csv', 'KIER_GAS_563-21-6_ACCU_01_Raw.csv', 'KIER_GAS_563-21-6_INST_01_10min.csv', 'KIER_GAS_563-22-1_ACCU_01_Raw.csv', 'KIER_GAS_563-22-1_INST_01_10min.csv', 'KIER_GAS_563-22-2_ACCU_01_Raw.csv', 'KIER_GAS_563-22-2_INST_01_10min.csv', 'KIER_GAS_563-22-3_ACCU_01_Raw.csv', 'KIER_GAS_563-22-3_INST_01_10min.csv', 'KIER_GAS_563-22-4_ACCU_01_Raw.csv', 'KIER_GAS_563-22-4_INST_01_10min.csv', 'KIER_GAS_563-22-5_ACCU_01_Raw.csv', 'KIER_GAS_563-22-5_INST_01_10min.csv', 'KIER_GAS_563-22-6_ACCU_01_Raw.csv', 'KIER_GAS_563-22-6_INST_01_10min.csv', 'KIER_GAS_563-23-1_ACCU_01_Raw.csv', 'KIER_GAS_563-23-1_INST_01_10min.csv', 'KIER_GAS_563-23-2_ACCU_01_Raw.csv', 'KIER_GAS_563-23-2_INST_01_10min.csv', 'KIER_GAS_563-23-3_ACCU_01_Raw.csv', 'KIER_GAS_563-23-3_INST_01_10min.csv', 'KIER_GAS_563-23-4_ACCU_01_Raw.csv', 'KIER_GAS_563-23-4_INST_01_10min.csv', 'KIER_GAS_563-24-1_ACCU_01_Raw.csv', 'KIER_GAS_563-24-1_INST_01_10min.csv', 'KIER_GAS_563-24-2_ACCU_01_Raw.csv', 'KIER_GAS_563-24-2_INST_01_10min.csv', 'KIER_GAS_563-3-1_ACCU_01_Raw.csv', 'KIER_GAS_563-3-1_INST_01_10min.csv', 'KIER_GAS_563-3-2_ACCU_01_Raw.csv', 'KIER_GAS_563-3-2_INST_01_10min.csv', 'KIER_GAS_563-3-3_ACCU_01_Raw.csv', 'KIER_GAS_563-3-3_INST_01_10min.csv', 'KIER_GAS_563-3-4_ACCU_01_Raw.csv', 'KIER_GAS_563-3-4_INST_01_10min.csv', 'KIER_GAS_563-3-5_ACCU_01_Raw.csv', 'KIER_GAS_563-3-5_INST_01_10min.csv', 'KIER_GAS_563-3-6_ACCU_01_Raw.csv', 'KIER_GAS_563-3-6_INST_01_10min.csv', 'KIER_GAS_563-4-1_ACCU_01_Raw.csv', 'KIER_GAS_563-4-1_INST_01_10min.csv', 'KIER_GAS_563-4-2_ACCU_01_Raw.csv', 'KIER_GAS_563-4-2_INST_01_10min.csv', 'KIER_GAS_563-4-3_ACCU_01_Raw.csv', 'KIER_GAS_563-4-3_INST_01_10min.csv', 'KIER_GAS_563-4-4_ACCU_01_Raw.csv', 'KIER_GAS_563-4-4_INST_01_10min.csv', 'KIER_GAS_563-4-5_ACCU_01_Raw.csv', 'KIER_GAS_563-4-5_INST_01_10min.csv', 'KIER_GAS_563-4-6_ACCU_01_Raw.csv', 'KIER_GAS_563-4-6_INST_01_10min.csv', 'KIER_GAS_563-5-1_ACCU_01_Raw.csv', 'KIER_GAS_563-5-1_INST_01_10min.csv', 'KIER_GAS_563-5-2_ACCU_01_Raw.csv', 'KIER_GAS_563-5-2_INST_01_10min.csv', 'KIER_GAS_563-5-3_ACCU_01_Raw.csv', 'KIER_GAS_563-5-3_INST_01_10min.csv', 'KIER_GAS_563-5-4_ACCU_01_Raw.csv', 'KIER_GAS_563-5-4_INST_01_10min.csv', 'KIER_GAS_563-5-5_ACCU_01_Raw.csv', 'KIER_GAS_563-5-5_INST_01_10min.csv', 'KIER_GAS_563-5-6_ACCU_01_Raw.csv', 'KIER_GAS_563-5-6_INST_01_10min.csv', 'KIER_GAS_563-6-1_ACCU_01_Raw.csv', 'KIER_GAS_563-6-1_INST_01_10min.csv', 'KIER_GAS_563-6-2_ACCU_01_Raw.csv', 'KIER_GAS_563-6-2_INST_01_10min.csv', 'KIER_GAS_563-6-3_ACCU_01_Raw.csv', 'KIER_GAS_563-6-3_INST_01_10min.csv', 'KIER_GAS_563-6-4_ACCU_01_Raw.csv', 'KIER_GAS_563-6-4_INST_01_10min.csv', 'KIER_GAS_563-6-5_ACCU_01_Raw.csv', 'KIER_GAS_563-6-5_INST_01_10min.csv', 'KIER_GAS_563-6-6_ACCU_01_Raw.csv', 'KIER_GAS_563-6-6_INST_01_10min.csv', 'KIER_GAS_563-7-1_ACCU_01_Raw.csv', 'KIER_GAS_563-7-1_INST_01_10min.csv', 'KIER_GAS_563-7-2_ACCU_01_Raw.csv', 'KIER_GAS_563-7-2_INST_01_10min.csv', 'KIER_GAS_563-7-3_ACCU_01_Raw.csv', 'KIER_GAS_563-7-3_INST_01_10min.csv', 'KIER_GAS_563-7-4_ACCU_01_Raw.csv', 'KIER_GAS_563-7-4_INST_01_10min.csv', 'KIER_GAS_563-7-5_ACCU_01_Raw.csv', 'KIER_GAS_563-7-5_INST_01_10min.csv', 'KIER_GAS_563-7-6_ACCU_01_Raw.csv', 'KIER_GAS_563-7-6_INST_01_10min.csv', 'KIER_GAS_563-8-1_ACCU_01_Raw.csv', 'KIER_GAS_563-8-1_INST_01_10min.csv', 'KIER_GAS_563-8-2_ACCU_01_Raw.csv', 'KIER_GAS_563-8-2_INST_01_10min.csv', 'KIER_GAS_563-8-3_ACCU_01_Raw.csv', 'KIER_GAS_563-8-3_INST_01_10min.csv', 'KIER_GAS_563-8-4_ACCU_01_Raw.csv', 'KIER_GAS_563-8-4_INST_01_10min.csv', 'KIER_GAS_563-8-5_ACCU_01_Raw.csv', 'KIER_GAS_563-8-5_INST_01_10min.csv', 'KIER_GAS_563-8-6_ACCU_01_Raw.csv', 'KIER_GAS_563-8-6_INST_01_10min.csv', 'KIER_GAS_563-9-1_ACCU_01_Raw.csv', 'KIER_GAS_563-9-1_INST_01_10min.csv', 'KIER_GAS_563-9-2_ACCU_01_Raw.csv', 'KIER_GAS_563-9-2_INST_01_10min.csv', 'KIER_GAS_563-9-3_ACCU_01_Raw.csv', 'KIER_GAS_563-9-3_INST_01_10min.csv', 'KIER_GAS_563-9-4_ACCU_01_Raw.csv', 'KIER_GAS_563-9-4_INST_01_10min.csv', 'KIER_GAS_563-9-5_ACCU_01_Raw.csv', 'KIER_GAS_563-9-5_INST_01_10min.csv', 'KIER_GAS_563-9-6_ACCU_01_Raw.csv', 'KIER_GAS_563-9-6_INST_01_10min.csv', 'KIER_GAS_ACCU_10MIN.csv', 'KIER_GAS_INST_01_10min.csv']\n"
     ]
    }
   ],
   "source": [
    "## Dict_Domain\n",
    "dict_domain = {0:\"ELEC\", 1:\"HEAT\", 2:\"WATER\", 3:\"HOT_HEAT\", 4:\"HOT_FLOW\", 5:\"GAS\"} ## GAS는 사용하지 않음.\n",
    "int_domain = 5\n",
    "str_domain = str(dict_domain[int_domain])\n",
    "\n",
    "dict_col_accu = {0 : \"ACTUAL_ACCU_EFF\" ## ELEC\n",
    "                 , 1 : \"ACCU_HEAT\" ## HEAT\n",
    "                 , 2 : \"ACCU_FLOW\" ## WATER\n",
    "                 , 3 : \"ACCU_HEAT\" ## HOT 열량\n",
    "                 , 4 : \"ACCU_FLOW\" ## HOT 유량\n",
    "                 , 5 : \"ACCU_FLOW\" ## GAS\n",
    "                 }\n",
    "str_col_accu = str(str_domain + \"_\" + str(dict_col_accu[int_domain]))\n",
    "\n",
    "dict_col_inst = {0 : \"INST_EFF\" ## ELEC_INST_EFF\n",
    "                , 1 : \"INST_HEAT\" ## HEAT_INST_HEAT\n",
    "                , 2 : \"INST_FLOW\" ## WATER_INST_FLOW\n",
    "                , 3 : \"INST\" ## HOT_HEAT_INST\n",
    "                , 4 : \"INST\" ## HOT_FLOW_INST\n",
    "                , 5 : \"INST_FLOW\" ## GAS_INST_FLOW\n",
    "                } \n",
    "str_col_inst = str(str_domain + \"_\" + str(dict_col_inst[int_domain]))\n",
    "\n",
    "## Directory Root\n",
    "str_dirData = \"../data/data_Energy_KIER/\"\n",
    "str_dir_raw = '../data/data_Energy_KIER/KIER_0_Raw/'\n",
    "str_dirName_bld = '../data/data_Energy_KIER/KIER_1_BLD/'\n",
    "str_dirName_h = '../data/data_Energy_KIER/KIER_2_H_' + str_domain + '/'\n",
    "\n",
    "## File\n",
    "str_fileRaw = str('KIER_RAW_' + str_domain + '_2024-06-07.csv')\n",
    "if int_domain == 5: str_fileRaw_hList = str('KIER_hList_Common.csv') \n",
    "else : str_fileRaw_hList = str('KIER_hList_' + str_domain + '.csv')\n",
    "\n",
    "print(str(os.listdir(str_dirData)) + \"\\n\")\n",
    "print(os.listdir(str_dirName_h))"
   ]
  },
  {
   "cell_type": "code",
   "execution_count": 17,
   "id": "72e4abce",
   "metadata": {},
   "outputs": [],
   "source": [
    "## HOT_HEAT와 HOT_FLOW가 한 시트에 존재하는 경우\n",
    "if int_domain == 3 or int_domain == 4 :\n",
    "    str_fileRaw = 'KIER_RAW_HOT_2024-06-07.csv'\n",
    "    df_hot_tmp = pd.read_csv(str_dir_raw + str_fileRaw, index_col = 0)\n",
    "    df_hot_tmp = df_hot_tmp.reset_index().rename({'HOT_ACCU_HEAT':'HOT_HEAT_ACCU', 'HOT_ACCU_FLOW':'HOT_FLOW_ACCU'}, axis=1)\n",
    "    ## 온수 열량\n",
    "    df_hot_tmp[['METER_DATE', 'HOUSE_ID_DONG', 'HOUSE_ID_HO_PRE', 'HOUSE_ID_HO', 'HOT_HEAT_ACCU']].to_csv(str_dir_raw + 'KIER_RAW_HOT_HEAT_2024-06-07.csv')\n",
    "    ## 온수 유량\n",
    "    df_hot_tmp[['METER_DATE', 'HOUSE_ID_DONG', 'HOUSE_ID_HO_PRE', 'HOUSE_ID_HO', 'HOT_FLOW_ACCU']].to_csv(str_dir_raw + 'KIER_RAW_HOT_FLOW_2024-06-07.csv')\n",
    "    print(df_hot_tmp.head(5))"
   ]
  },
  {
   "cell_type": "code",
   "execution_count": 18,
   "id": "30c81775",
   "metadata": {},
   "outputs": [
    {
     "data": {
      "text/plain": [
       "'../data/data_Energy_KIER/KIER_0_Raw/KIER_RAW_GAS_2024-06-07.csv'"
      ]
     },
     "execution_count": 18,
     "metadata": {},
     "output_type": "execute_result"
    }
   ],
   "source": [
    "str_dir_raw + str_fileRaw"
   ]
  },
  {
   "cell_type": "code",
   "execution_count": 19,
   "id": "fc34c59c",
   "metadata": {},
   "outputs": [
    {
     "name": "stderr",
     "output_type": "stream",
     "text": [
      "Skipping line 52380994: expected 5 fields, saw 6\n",
      "\n"
     ]
    },
    {
     "name": "stdout",
     "output_type": "stream",
     "text": [
      "(52380992, 5)\n",
      "Index(['METER_DATE', 'HOUSE_ID_DONG', 'HOUSE_ID_HO_PRE', 'HOUSE_ID_HO',\n",
      "       'GAS_ACCU_FLOW'],\n",
      "      dtype='object')\n",
      "            METER_DATE  HOUSE_ID_DONG  HOUSE_ID_HO_PRE  \\\n",
      "0  2000-10-00 00:00:00              0                0   \n",
      "1  2000-11-00 00:00:00              0                0   \n",
      "2  2000-12-00 00:00:00              0                0   \n",
      "3  2000-13-00 00:00:00              0                0   \n",
      "4  2000-16-00 00:00:00              0                0   \n",
      "\n",
      "                                    HOUSE_ID_HO  GAS_ACCU_FLOW  \n",
      "0  NkU0NTM2MTgwMzc4MDI1NEYyMjhFMEM4NEJDREVCOEY=   3.3800000000  \n",
      "1  NkU0NTM2MTgwMzc4MDI1NEYyMjhFMEM4NEJDREVCOEY=   3.3800000000  \n",
      "2  NkU0NTM2MTgwMzc4MDI1NEYyMjhFMEM4NEJDREVCOEY=   3.3800000000  \n",
      "3  NkU0NTM2MTgwMzc4MDI1NEYyMjhFMEM4NEJDREVCOEY=   3.3800000000  \n",
      "4  NkU0NTM2MTgwMzc4MDI1NEYyMjhFMEM4NEJDREVCOEY=   3.3800000000  \n"
     ]
    }
   ],
   "source": [
    "## Gas의 경우는 ParserError: Error tokenizing data 발생하므로 아래와 같이 Load\n",
    "df_kier_hList = pd.read_csv(str_dir_raw + str_fileRaw, index_col= 0, error_bad_lines = False).reset_index()\n",
    "## 단, warn_bad_lines는 True로 그대로 두어 어느 행이 사라졌는지 확인해야만 함\n",
    "\n",
    "print(df_kier_hList.shape, \" /// \", df_kier_hList.columns)\n",
    "df_kier_hList"
   ]
  },
  {
   "cell_type": "code",
   "execution_count": 20,
   "id": "00ed17b2",
   "metadata": {},
   "outputs": [],
   "source": [
    "## list : Bld, Floor, House\n",
    "df_kier_hList = df_kier_hList[['HOUSE_ID_DONG', 'HOUSE_ID_HO_PRE', 'HOUSE_ID_HO']].drop_duplicates()\n",
    "df_kier_hList['HOUSE_ID_HO_INT'] = 0"
   ]
  },
  {
   "cell_type": "code",
   "execution_count": 21,
   "id": "7af68e3d",
   "metadata": {},
   "outputs": [
    {
     "data": {
      "text/html": [
       "<div>\n",
       "<style scoped>\n",
       "    .dataframe tbody tr th:only-of-type {\n",
       "        vertical-align: middle;\n",
       "    }\n",
       "\n",
       "    .dataframe tbody tr th {\n",
       "        vertical-align: top;\n",
       "    }\n",
       "\n",
       "    .dataframe thead th {\n",
       "        text-align: right;\n",
       "    }\n",
       "</style>\n",
       "<table border=\"1\" class=\"dataframe\">\n",
       "  <thead>\n",
       "    <tr style=\"text-align: right;\">\n",
       "      <th></th>\n",
       "      <th>HOUSE_ID_DONG</th>\n",
       "      <th>HOUSE_ID_HO_PRE</th>\n",
       "      <th>HOUSE_ID_HO_INT</th>\n",
       "      <th>HOUSE_ID</th>\n",
       "      <th>HOUSE_ID_HO</th>\n",
       "    </tr>\n",
       "  </thead>\n",
       "  <tbody>\n",
       "    <tr>\n",
       "      <th>0</th>\n",
       "      <td>0</td>\n",
       "      <td>0</td>\n",
       "      <td>1</td>\n",
       "      <td>0-0-1</td>\n",
       "      <td>NkU0NTM2MTgwMzc4MDI1NEYyMjhFMEM4NEJDREVCOEY=</td>\n",
       "    </tr>\n",
       "    <tr>\n",
       "      <th>1</th>\n",
       "      <td>0</td>\n",
       "      <td>10</td>\n",
       "      <td>1</td>\n",
       "      <td>0-10-1</td>\n",
       "      <td>OUU3RkE4MEExRTc2NUVEMUM1NTAxQTQxMTZGNzEyMDc=</td>\n",
       "    </tr>\n",
       "    <tr>\n",
       "      <th>2</th>\n",
       "      <td>0</td>\n",
       "      <td>11</td>\n",
       "      <td>1</td>\n",
       "      <td>0-11-1</td>\n",
       "      <td>MjQ0NjAwMkZFMEMzNkE5OUEyQzg1NzhCNURCRjM5OTc=</td>\n",
       "    </tr>\n",
       "    <tr>\n",
       "      <th>3</th>\n",
       "      <td>0</td>\n",
       "      <td>12</td>\n",
       "      <td>1</td>\n",
       "      <td>0-12-1</td>\n",
       "      <td>MkFFRTgwMjk1NDA4NDAwODk5NTJDRUVCOTIxM0Y4NkQ=</td>\n",
       "    </tr>\n",
       "    <tr>\n",
       "      <th>4</th>\n",
       "      <td>0</td>\n",
       "      <td>16</td>\n",
       "      <td>1</td>\n",
       "      <td>0-16-1</td>\n",
       "      <td>M0ZFOTgyMUQ4N0U1QjAzNDJFNUNGOTE0NkNBRDgxOEM=</td>\n",
       "    </tr>\n",
       "    <tr>\n",
       "      <th>...</th>\n",
       "      <td>...</td>\n",
       "      <td>...</td>\n",
       "      <td>...</td>\n",
       "      <td>...</td>\n",
       "      <td>...</td>\n",
       "    </tr>\n",
       "    <tr>\n",
       "      <th>450</th>\n",
       "      <td>1433</td>\n",
       "      <td>5</td>\n",
       "      <td>1</td>\n",
       "      <td>1433-5-1</td>\n",
       "      <td>MDRDQkM5NkE1MjVDQ0I0M0VDRkU0QUFERjYyQzY0MTE=</td>\n",
       "    </tr>\n",
       "    <tr>\n",
       "      <th>451</th>\n",
       "      <td>1436</td>\n",
       "      <td>3</td>\n",
       "      <td>1</td>\n",
       "      <td>1436-3-1</td>\n",
       "      <td>NDhDRENGM0JGMzZDRUU2MUE2NjM0RTE1NDk0MjFFRTA=</td>\n",
       "    </tr>\n",
       "    <tr>\n",
       "      <th>452</th>\n",
       "      <td>1446</td>\n",
       "      <td>52</td>\n",
       "      <td>1</td>\n",
       "      <td>1446-52-1</td>\n",
       "      <td>M0EzRDNGMDBDQTk3N0I0MDNDNzM3QUM5Nzg0M0ZCQkM=</td>\n",
       "    </tr>\n",
       "    <tr>\n",
       "      <th>453</th>\n",
       "      <td>1446</td>\n",
       "      <td>54</td>\n",
       "      <td>1</td>\n",
       "      <td>1446-54-1</td>\n",
       "      <td>Njg0MTdGMDNDOEMxMzM2QzhGODBGNkMxRjgyNUY2NzQ=</td>\n",
       "    </tr>\n",
       "    <tr>\n",
       "      <th>454</th>\n",
       "      <td>1446</td>\n",
       "      <td>55</td>\n",
       "      <td>1</td>\n",
       "      <td>1446-55-1</td>\n",
       "      <td>RUIwM0YyNjc4MEI3QjFFNjFFMzM0QUFBMDA1Q0I2ODc=</td>\n",
       "    </tr>\n",
       "  </tbody>\n",
       "</table>\n",
       "<p>455 rows × 5 columns</p>\n",
       "</div>"
      ],
      "text/plain": [
       "     HOUSE_ID_DONG  HOUSE_ID_HO_PRE  HOUSE_ID_HO_INT   HOUSE_ID  \\\n",
       "0                0                0                1      0-0-1   \n",
       "1                0               10                1     0-10-1   \n",
       "2                0               11                1     0-11-1   \n",
       "3                0               12                1     0-12-1   \n",
       "4                0               16                1     0-16-1   \n",
       "..             ...              ...              ...        ...   \n",
       "450           1433                5                1   1433-5-1   \n",
       "451           1436                3                1   1436-3-1   \n",
       "452           1446               52                1  1446-52-1   \n",
       "453           1446               54                1  1446-54-1   \n",
       "454           1446               55                1  1446-55-1   \n",
       "\n",
       "                                      HOUSE_ID_HO  \n",
       "0    NkU0NTM2MTgwMzc4MDI1NEYyMjhFMEM4NEJDREVCOEY=  \n",
       "1    OUU3RkE4MEExRTc2NUVEMUM1NTAxQTQxMTZGNzEyMDc=  \n",
       "2    MjQ0NjAwMkZFMEMzNkE5OUEyQzg1NzhCNURCRjM5OTc=  \n",
       "3    MkFFRTgwMjk1NDA4NDAwODk5NTJDRUVCOTIxM0Y4NkQ=  \n",
       "4    M0ZFOTgyMUQ4N0U1QjAzNDJFNUNGOTE0NkNBRDgxOEM=  \n",
       "..                                            ...  \n",
       "450  MDRDQkM5NkE1MjVDQ0I0M0VDRkU0QUFERjYyQzY0MTE=  \n",
       "451  NDhDRENGM0JGMzZDRUU2MUE2NjM0RTE1NDk0MjFFRTA=  \n",
       "452  M0EzRDNGMDBDQTk3N0I0MDNDNzM3QUM5Nzg0M0ZCQkM=  \n",
       "453  Njg0MTdGMDNDOEMxMzM2QzhGODBGNkMxRjgyNUY2NzQ=  \n",
       "454  RUIwM0YyNjc4MEI3QjFFNjFFMzM0QUFBMDA1Q0I2ODc=  \n",
       "\n",
       "[455 rows x 5 columns]"
      ]
     },
     "execution_count": 21,
     "metadata": {},
     "output_type": "execute_result"
    }
   ],
   "source": [
    "## list : Bld\n",
    "list_Bld = df_kier_hList[['HOUSE_ID_DONG']].drop_duplicates()['HOUSE_ID_DONG']\n",
    "for bld in list_Bld:\n",
    "    ## list : F\n",
    "    list_F = df_kier_hList[df_kier_hList['HOUSE_ID_DONG'] == bld]['HOUSE_ID_HO_PRE'].drop_duplicates()\n",
    "    \n",
    "    for f in list_F:\n",
    "        list_H = df_kier_hList[(df_kier_hList['HOUSE_ID_DONG'] == bld)\n",
    "                                & (df_kier_hList['HOUSE_ID_HO_PRE'] == f)]['HOUSE_ID_HO'].drop_duplicates()\n",
    "\n",
    "        ## int_h는 해시코드 형태로 나타나므로, \n",
    "        ## 숫자를 부여하여 호실로서 재정의 후 df_kier_hList 내에 저장\n",
    "        int_house_num = 1\n",
    "        for h in list_H:\n",
    "            idx_h = df_kier_hList[(df_kier_hList['HOUSE_ID_DONG'] == bld)\n",
    "                                    & (df_kier_hList['HOUSE_ID_HO_PRE'] == f)\n",
    "                                    & (df_kier_hList['HOUSE_ID_HO'] == h)].index\n",
    "            df_kier_hList['HOUSE_ID_HO_INT'].loc[idx_h] = int_house_num\n",
    "\n",
    "            int_house_num = int_house_num + 1\n",
    "df_kier_hList = df_kier_hList.reset_index()\n",
    "# df_kier_hList = df_kier_hList[['HOUSE_ID_DONG', 'HOUSE_ID_HO_PRE', 'HOUSE_ID_HO_INT', 'HOUSE_ID_HO']]\n",
    "\n",
    "col_house_id = ['HOUSE_ID_DONG', 'HOUSE_ID_HO_PRE', 'HOUSE_ID_HO_INT']\n",
    "df_kier_hList['HOUSE_ID'] = df_kier_hList[col_house_id].apply(lambda row : '-'.join(row.values.astype(str)), axis = 1)\n",
    "df_kier_hList = df_kier_hList[['HOUSE_ID_DONG', 'HOUSE_ID_HO_PRE', 'HOUSE_ID_HO_INT', 'HOUSE_ID', 'HOUSE_ID_HO']]\n",
    "\n",
    "df_kier_hList.to_csv(str_dir_raw + str_fileRaw_hList)\n",
    "df_kier_hList"
   ]
  },
  {
   "cell_type": "code",
   "execution_count": null,
   "metadata": {},
   "outputs": [],
   "source": []
  },
  {
   "cell_type": "code",
   "execution_count": null,
   "id": "46168e30",
   "metadata": {},
   "outputs": [],
   "source": []
  },
  {
   "cell_type": "code",
   "execution_count": null,
   "metadata": {},
   "outputs": [],
   "source": []
  }
 ],
 "metadata": {
  "kernelspec": {
   "display_name": "Python 3 (ipykernel)",
   "language": "python",
   "name": "python3"
  },
  "language_info": {
   "codemirror_mode": {
    "name": "ipython",
    "version": 3
   },
   "file_extension": ".py",
   "mimetype": "text/x-python",
   "name": "python",
   "nbconvert_exporter": "python",
   "pygments_lexer": "ipython3",
   "version": "3.10.9"
  }
 },
 "nbformat": 4,
 "nbformat_minor": 5
}
